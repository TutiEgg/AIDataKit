{
 "cells": [
  {
   "cell_type": "markdown",
   "metadata": {},
   "source": [
    "# RawDataReader Example"
   ]
  },
  {
   "cell_type": "code",
   "execution_count": null,
   "metadata": {},
   "outputs": [],
   "source": [
    "%load_ext autoreload\n",
    "%autoreload 2\n",
    "import matplotlib.pyplot as plt\n",
    "import re\n",
    "import pandas as pd \n",
    "import numpy as np\n",
    "import copy\n",
    "import os\n",
    "\n",
    "from SWAI.IO.BinFileReader.config import *\n",
    "from SWAI.IO.BinFileReader.MainPackageReader import MainPackageReader\n",
    "from SWAI.IO.BinFileReader.BaseSensorData import SensorDataUltrasonic, SensorDataTime, SensorDataBase\n",
    "from SWAI.IO.BinFileReader.DataPackage import *\n",
    "from SWAI.IO.SensorData.SensorDataBase import SensorDataBase\n",
    "from SWAI.IO.SensorData.SensorUltrasonic import SensorDataUltrasonic\n",
    "from SWAI.IO.SensorData.SensorDataTime import SensorDataTime"
   ]
  },
  {
   "cell_type": "code",
   "execution_count": null,
   "metadata": {},
   "outputs": [],
   "source": [
    "def check_samplingrates(d_amount_pkgs):\n",
    "    # check the sampling rates for the different Sensors\n",
    "    # and prints them out\n",
    "    t_s = d_amount_pkgs['timestamp'] /10\n",
    "    print(\"Samplingrates\")\n",
    "    print(\"-----------------\")\n",
    "    for key in d_amount_pkgs.keys():\n",
    "        num_values = d_amount_pkgs[key]\n",
    "        if key in ['US_front','US_back']:\n",
    "            num_values = num_values * 64\n",
    "        sample_rate = num_values/t_s\n",
    "        print(\"{:<20} {:>10}\".format(key +':', round(sample_rate,1)))"
   ]
  },
  {
   "cell_type": "markdown",
   "metadata": {},
   "source": [
    "## Read out the raw file"
   ]
  },
  {
   "cell_type": "code",
   "execution_count": null,
   "metadata": {},
   "outputs": [],
   "source": [
    "#### config\n",
    "# create list of all packages which are expected\n",
    "l_packages = [\n",
    "              pkg_timestamp,  \n",
    "              pkg_adxl_front,\n",
    "              pkg_adxl_back,\n",
    "              pkg_adis_front,\n",
    "              pkg_adis_back,\n",
    "              pkg_iis3_front,\n",
    "              pkg_iis3_back,\n",
    "              pkg_us_front,\n",
    "              pkg_us_back,\n",
    "              pkg_rpm,\n",
    "              pkg_speed_backwheel,\n",
    "              pkg_oiltemp,\n",
    "              pkg_motor_temp,\n",
    "              pkg_gear\n",
    "              ]"
   ]
  },
  {
   "cell_type": "code",
   "execution_count": null,
   "metadata": {},
   "outputs": [],
   "source": [
    "path_bin_file = r\"U:\\01_Datenbanken\\12_example_files\\example_bin_file_reader\\data_5.bin\"\n",
    "with open(path_bin_file, \"rb\") as file:\n",
    "    raw_file = file.read()  "
   ]
  },
  {
   "cell_type": "code",
   "execution_count": null,
   "metadata": {},
   "outputs": [],
   "source": [
    "# create a Package Reader object for reading out the raw file\n",
    "raw_file_reader = MainPackageReader(l_subpackages=l_packages)\n",
    "\n",
    "input_file = raw_file # [0:100000000]\n",
    "data = raw_file_reader.read_out_raw_file(input_file)\n",
    "\n",
    "print(\"amount packages\")\n",
    "raw_file_reader.d_amount_pkgs"
   ]
  },
  {
   "cell_type": "code",
   "execution_count": null,
   "metadata": {},
   "outputs": [],
   "source": [
    "check_samplingrates(raw_file_reader.d_amount_pkgs)"
   ]
  },
  {
   "cell_type": "code",
   "execution_count": null,
   "metadata": {},
   "outputs": [],
   "source": [
    "df = raw_file_reader.convert_data_to_pandas(l_data=data)"
   ]
  },
  {
   "cell_type": "markdown",
   "metadata": {},
   "source": [
    "## Time"
   ]
  },
  {
   "cell_type": "code",
   "execution_count": null,
   "metadata": {},
   "outputs": [],
   "source": [
    "sensor_data_time = SensorDataTime(sensorname='Timestamp')\n",
    "np_abs_time, l_steps = sensor_data_time.calc_abs_timestamps(l_timestamps = list(df['timestamp']['timestamp']))\n",
    "%matplotlib inline\n",
    "fig, ax = plt.subplots(1,2,figsize=(10,3))\n",
    "ax[0].plot(np_abs_time)\n",
    "ax[0].set_title(\"increasing of the abs time\")\n",
    "ax[1].plot(l_steps)\n",
    "ax[1].set_title(\"steps between two packages\")"
   ]
  },
  {
   "cell_type": "markdown",
   "metadata": {},
   "source": [
    "## Vibration"
   ]
  },
  {
   "cell_type": "code",
   "execution_count": null,
   "metadata": {},
   "outputs": [],
   "source": [
    "# Plot all the vibration data\n",
    "%matplotlib qt\n",
    "\n",
    "l_sensorname = ['IIS3_front','IIS3_back','ADXL_front','ADXL_back', 'ADIS_front', 'ADIS_back']\n",
    "for sensorname in l_sensorname:\n",
    "    data_x = df[sensorname]['X']\n",
    "    data_y = df[sensorname]['Y']\n",
    "    data_z = df[sensorname]['Z']\n",
    "    sensor_data = SensorDataBase(sensorname=sensorname)\n",
    "    data_x = sensor_data.remove_none_values(data_x)\n",
    "    data_y = sensor_data.remove_none_values(data_y)\n",
    "    data_z = sensor_data.remove_none_values(data_z)\n",
    "    plt.figure()\n",
    "    plt.plot(data_x)\n",
    "    plt.plot(data_y)\n",
    "    plt.plot(data_z)\n",
    "    plt.title(sensorname)\n",
    "    plt.legend(['x','y','z'])"
   ]
  },
  {
   "cell_type": "markdown",
   "metadata": {},
   "source": [
    "## Ultrasonic"
   ]
  },
  {
   "cell_type": "code",
   "execution_count": null,
   "metadata": {},
   "outputs": [],
   "source": [
    "# create ultrasonic data object\n",
    "sensor_data_us = SensorDataUltrasonic(sensorname='ultrasonic')\n",
    "\n",
    "sensor_data_us = SensorDataUltrasonic(sensorname='ultrasonic')\n",
    "l_data_keys = ['US_front', 'US_back']\n",
    "l_data =[]\n",
    "for key in l_data_keys:\n",
    "    l_us = list(df[key]['US'])\n",
    "    l_us = sensor_data_us.correct_msb_error(l_us)\n",
    "    l_us = sensor_data_us.flatten_of_data(l_us)\n",
    "    np_us = sensor_data_us.remove_none_values(l_us)\n",
    "    l_data.append(np_us)\n",
    "\n",
    "if 1:\n",
    "    SensorDataUltrasonic.convert_to_wav_file(np_us, \n",
    "                                             file_path= path_bin_file.split(\".\")[0] + '.wav')"
   ]
  },
  {
   "cell_type": "markdown",
   "metadata": {},
   "source": [
    "## Visualization"
   ]
  },
  {
   "cell_type": "code",
   "execution_count": null,
   "metadata": {},
   "outputs": [],
   "source": [
    "%matplotlib qt\n",
    "\n",
    "start_idx = 192000 * 250\n",
    "end_idx = 192000 * 400\n",
    "\n",
    "plt.figure()\n",
    "plt.plot(l_data[0][start_idx:end_idx])\n",
    "plt.plot(l_data[1][start_idx:end_idx])\n",
    "plt.legend([l_data_keys[0], l_data_keys[1]])"
   ]
  },
  {
   "cell_type": "code",
   "execution_count": null,
   "metadata": {},
   "outputs": [],
   "source": []
  },
  {
   "cell_type": "code",
   "execution_count": null,
   "metadata": {},
   "outputs": [],
   "source": []
  },
  {
   "cell_type": "code",
   "execution_count": null,
   "metadata": {},
   "outputs": [],
   "source": []
  }
 ],
 "metadata": {
  "kernelspec": {
   "display_name": "Python 3",
   "language": "python",
   "name": "python3"
  },
  "language_info": {
   "codemirror_mode": {
    "name": "ipython",
    "version": 3
   },
   "file_extension": ".py",
   "mimetype": "text/x-python",
   "name": "python",
   "nbconvert_exporter": "python",
   "pygments_lexer": "ipython3",
   "version": "3.9.0"
  }
 },
 "nbformat": 4,
 "nbformat_minor": 2
}
